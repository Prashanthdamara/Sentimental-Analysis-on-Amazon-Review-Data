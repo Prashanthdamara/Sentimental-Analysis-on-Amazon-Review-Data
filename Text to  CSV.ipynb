{
 "cells": [
  {
   "cell_type": "code",
   "execution_count": null,
   "id": "1f422082",
   "metadata": {},
   "outputs": [],
   "source": [
    "# import libraries\n",
    "import csv\n",
    "import glob"
   ]
  },
  {
   "cell_type": "code",
   "execution_count": null,
   "id": "190f7689",
   "metadata": {},
   "outputs": [],
   "source": [
    "# load text files\n",
    "file_names = glob.glob(\"C:/Users/prashanth/Desktop/innomatics/NLP/Sentimental Analysis on Amazon reviews/txt_reviews/*.txt\")"
   ]
  },
  {
   "cell_type": "code",
   "execution_count": null,
   "id": "7a3560cc",
   "metadata": {},
   "outputs": [],
   "source": [
    "try:\n",
    "    with open('review.csv', 'w',encoding=\"utf8\") as out_file:\n",
    "        for i in file_names:\n",
    "            with open(i,encoding=\"utf8\") as f:\n",
    "                lines = str([line.rstrip() for line in f])\n",
    "                lines = lines.rstrip(']')\n",
    "                lines = lines.lstrip('[')\n",
    "                out_file.write(lines+'\\n')\n",
    "except:\n",
    "    out_file.write('np'+'\\n')"
   ]
  },
  {
   "cell_type": "code",
   "execution_count": null,
   "id": "283eb329",
   "metadata": {},
   "outputs": [],
   "source": []
  }
 ],
 "metadata": {
  "kernelspec": {
   "display_name": "Python 3 (ipykernel)",
   "language": "python",
   "name": "python3"
  },
  "language_info": {
   "codemirror_mode": {
    "name": "ipython",
    "version": 3
   },
   "file_extension": ".py",
   "mimetype": "text/x-python",
   "name": "python",
   "nbconvert_exporter": "python",
   "pygments_lexer": "ipython3",
   "version": "3.9.7"
  }
 },
 "nbformat": 4,
 "nbformat_minor": 5
}
